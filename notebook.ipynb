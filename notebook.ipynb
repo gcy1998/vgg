{
 "cells": [
  {
   "cell_type": "code",
   "execution_count": 1,
   "metadata": {},
   "outputs": [
    {
     "name": "stderr",
     "output_type": "stream",
     "text": [
      "/anaconda3/lib/python3.6/site-packages/h5py/__init__.py:36: FutureWarning: Conversion of the second argument of issubdtype from `float` to `np.floating` is deprecated. In future, it will be treated as `np.float64 == np.dtype(float).type`.\n",
      "  from ._conv import register_converters as _register_converters\n"
     ]
    }
   ],
   "source": [
    "import os\n",
    "import time\n",
    "import argparse\n",
    "import tensorflow as tf\n",
    "from network import VGG16\n",
    "\n",
    "\n",
    "def configure():\n",
    "    # training\n",
    "    flags = tf.app.flags\n",
    "    flags.DEFINE_integer('max_step', 10, '# of step for training')\n",
    "    flags.DEFINE_integer('test_interval', 100, '# of interval to test a model')\n",
    "    flags.DEFINE_integer('save_interval', 1000, '# of interval to save model')\n",
    "    flags.DEFINE_integer('summary_interval', 100, '# of step to save summary')\n",
    "    flags.DEFINE_float('learning_rate', 1e-3, 'learning rate')\n",
    "    # data\n",
    "    flags.DEFINE_string('data_dir', './dataset/', 'Name of data directory')\n",
    "    flags.DEFINE_string('train_data', 'cifar10train.h5', 'Training data')\n",
    "    flags.DEFINE_string('valid_data', 'cifar10valid.h5', 'Validation data')\n",
    "    flags.DEFINE_string('test_data', 'cifar10valid.h5', 'Testing data')\n",
    "    flags.DEFINE_integer('batch', 2, 'batch size')\n",
    "    flags.DEFINE_integer('channel', 3, 'channel size')\n",
    "    flags.DEFINE_integer('height', 32, 'height size')\n",
    "    flags.DEFINE_integer('width', 32, 'width size')\n",
    "    # Debug\n",
    "    flags.DEFINE_string('logdir', './logdir', 'Log dir')\n",
    "    flags.DEFINE_string('modeldir', './modeldir', 'Model dir')\n",
    "    flags.DEFINE_string('sampledir', './samples/', 'Sample directory')\n",
    "    flags.DEFINE_string('model_name', 'model', 'Model file name')\n",
    "    flags.DEFINE_integer('reload_step', 0, 'Reload step to continue training')\n",
    "    flags.DEFINE_integer('test_step', 1, 'Test or predict model at this step')\n",
    "    flags.DEFINE_integer('random_seed', int(time.time()), 'random seed')\n",
    "    # network architecture\n",
    "    flags.DEFINE_integer('network_depth', 5, 'network depth for U-Net')\n",
    "    flags.DEFINE_integer('class_num', 10, 'output class number')\n",
    "    flags.DEFINE_integer('start_channel_num', 64,\n",
    "                         'start number of outputs for the first conv layer')\n",
    "    # fix bug of flags\n",
    "    flags.FLAGS.__dict__['__parsed'] = False\n",
    "    return flags.FLAGS"
   ]
  },
  {
   "cell_type": "code",
   "execution_count": null,
   "metadata": {},
   "outputs": [],
   "source": [
    "session = tf.Session()\n",
    "model = VGG16(session, configure())\n",
    "model.train()\n",
    "model.test()"
   ]
  }
 ],
 "metadata": {
  "kernelspec": {
   "display_name": "Python 3",
   "language": "python",
   "name": "python3"
  },
  "language_info": {
   "codemirror_mode": {
    "name": "ipython",
    "version": 3
   },
   "file_extension": ".py",
   "mimetype": "text/x-python",
   "name": "python",
   "nbconvert_exporter": "python",
   "pygments_lexer": "ipython3",
   "version": "3.6.5"
  }
 },
 "nbformat": 4,
 "nbformat_minor": 2
}
